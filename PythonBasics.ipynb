{
 "cells": [
  {
   "cell_type": "code",
   "execution_count": 1,
   "id": "42926a1e",
   "metadata": {},
   "outputs": [
    {
     "name": "stdout",
     "output_type": "stream",
     "text": [
      "100\n"
     ]
    }
   ],
   "source": [
    "new_variable = 100\n",
    "print(new_variable)"
   ]
  },
  {
   "cell_type": "code",
   "execution_count": 2,
   "id": "aff9b679",
   "metadata": {},
   "outputs": [
    {
     "data": {
      "text/plain": [
       "True"
      ]
     },
     "execution_count": 2,
     "metadata": {},
     "output_type": "execute_result"
    }
   ],
   "source": [
    "2 * 50 == 100"
   ]
  },
  {
   "cell_type": "code",
   "execution_count": 3,
   "id": "c0b3284e",
   "metadata": {},
   "outputs": [
    {
     "name": "stdout",
     "output_type": "stream",
     "text": [
      "I'm another variable!\n"
     ]
    }
   ],
   "source": [
    "different_variable = \"I'm another variable!\"\n",
    "print(different_variable)"
   ]
  },
  {
   "cell_type": "code",
   "execution_count": 4,
   "id": "d751eb34",
   "metadata": {},
   "outputs": [],
   "source": [
    "import re\n",
    "from collections import Counter"
   ]
  },
  {
   "cell_type": "code",
   "execution_count": 5,
   "id": "aa4b9e9d",
   "metadata": {},
   "outputs": [],
   "source": [
    "def split_into_words(any_chunk_of_text):\n",
    "    lowercase_text = any_chunk_of_text.lower()\n",
    "    split_words = re.split(\"\\W+\", lowercase_text)\n",
    "    return split_words"
   ]
  },
  {
   "cell_type": "code",
   "execution_count": 6,
   "id": "0de5937c",
   "metadata": {},
   "outputs": [],
   "source": [
    "filepath = \"texts/music/Beyonce-Lemonade.txt\"\n",
    "number_of_desired_words = 40"
   ]
  },
  {
   "cell_type": "code",
   "execution_count": 7,
   "id": "e81e5a79",
   "metadata": {},
   "outputs": [],
   "source": [
    "stopwords = ['i', 'me', 'my', 'myself', 'we', 'our', 'ours', 'ourselves', 'you', 'your', 'yours',\n",
    "'yourself', 'yourselves', 'he', 'him', 'his', 'himself', 'she', 'her', 'hers',\n",
    " 'herself', 'it', 'its', 'itself', 'they', 'them', 'their', 'theirs', 'themselves',\n",
    " 'what', 'which', 'who', 'whom', 'this', 'that', 'these', 'those', 'am', 'is', 'are',\n",
    " 'was', 'were', 'be', 'been', 'being', 'have', 'has', 'had', 'having', 'do', 'does',\n",
    " 'did', 'doing', 'a', 'an', 'the', 'and', 'but', 'if', 'or', 'because', 'as', 'until',\n",
    " 'while', 'of', 'at', 'by', 'for', 'with', 'about', 'against', 'between', 'into',\n",
    " 'through', 'during', 'before', 'after', 'above', 'below', 'to', 'from', 'up', 'down',\n",
    " 'in', 'out', 'on', 'off', 'over', 'under', 'again', 'further', 'then', 'once', 'here',\n",
    " 'there', 'when', 'where', 'why', 'how', 'all', 'any', 'both', 'each', 'few', 'more',\n",
    " 'most', 'other', 'some', 'such', 'no', 'nor', 'not', 'only', 'own', 'same', 'so',\n",
    " 'than', 'too', 'very', 's', 't', 'can', 'will', 'just', 'don', 'should', 'now', 've', 'll', 'amp']"
   ]
  },
  {
   "cell_type": "code",
   "execution_count": 8,
   "id": "8673f6bf",
   "metadata": {},
   "outputs": [],
   "source": [
    "full_text = open(filepath, encoding=\"utf-8\").read()\n",
    "\n",
    "all_the_words = split_into_words(full_text)\n",
    "meaningful_words = [word for word in all_the_words if word not in stopwords]\n",
    "meaningful_words_tally = Counter(meaningful_words)\n",
    "most_frequent_meaningful_words = meaningful_words_tally.most_common(number_of_desired_words)"
   ]
  },
  {
   "cell_type": "code",
   "execution_count": 9,
   "id": "34fbbc13",
   "metadata": {},
   "outputs": [
    {
     "name": "stdout",
     "output_type": "stream",
     "text": [
      "texts/music/Beyonce-Lemonade.txt\n",
      "['i', 'me', 'my', 'myself', 'we', 'our', 'ours', 'ourselves', 'you', 'your', 'yours', 'yourself', 'yourselves', 'he', 'him', 'his', 'himself', 'she', 'her', 'hers', 'herself', 'it', 'its', 'itself', 'they', 'them', 'their', 'theirs', 'themselves', 'what', 'which', 'who', 'whom', 'this', 'that', 'these', 'those', 'am', 'is', 'are', 'was', 'were', 'be', 'been', 'being', 'have', 'has', 'had', 'having', 'do', 'does', 'did', 'doing', 'a', 'an', 'the', 'and', 'but', 'if', 'or', 'because', 'as', 'until', 'while', 'of', 'at', 'by', 'for', 'with', 'about', 'against', 'between', 'into', 'through', 'during', 'before', 'after', 'above', 'below', 'to', 'from', 'up', 'down', 'in', 'out', 'on', 'off', 'over', 'under', 'again', 'further', 'then', 'once', 'here', 'there', 'when', 'where', 'why', 'how', 'all', 'any', 'both', 'each', 'few', 'more', 'most', 'other', 'some', 'such', 'no', 'nor', 'not', 'only', 'own', 'same', 'so', 'than', 'too', 'very', 's', 't', 'can', 'will', 'just', 'don', 'should', 'now', 've', 'll', 'amp']\n",
      "40\n",
      "Six inch heels, she walked in the club like nobody's business\n",
      "Goddamn, she murdered everybody and I was her witness\n",
      "\n",
      "She's stacking money, money everywhere she goes\n",
      "You know, pesos out of Mexico\n",
      "De uno, commas and them decimals\n",
      "She don't gotta give it up, she professional\n",
      "She mixing up that Ace with that Hennessy\n",
      "She love the way it tastes, that's her recipe\n",
      "Rushing through her veins like it's ecstasy (Oh no)\n",
      "She already made enough, but she'll never leave\n",
      "\n",
      "Six inch heels, she walked in the club like nobody's business\n",
      "Goddamn, she murdered everybody and I was her witness\n",
      "She works for the money, she work for the money\n",
      "From the start to the finish\n",
      "And she worth every dollar, she worth every dollar\n",
      "And she worth every minute\n",
      "\n",
      "She work for the money\n",
      "She work for the money\n",
      "She work for the money\n",
      "She work for the money\n",
      "\n",
      "She stack her money, money everywhere she goes\n",
      "She got that Sake, her Yamazaki straight from Tokyo\n",
      "Oh baby, you know, she got them commas and them decimals\n",
      "She don't gotta give it up 'cause she professional\n",
      "\n",
      "Six inch heels, she walked in the club like nobody's business\n",
      "Goddamn (Goddamn, babe)\n",
      "She murdered everybody and I was her witness (Oh)\n",
      "She works for the money (Work for the)\n",
      "She work for the money (Work for the)\n",
      "From the start to the finish (Oh baby)\n",
      "And she worth every dollar (Worth every)\n",
      "She worth every dollar (Work for the)\n",
      "And she worth every minute\n",
      "\n",
      "Stars in her eyes\n",
      "She fights for the power, keeping time\n",
      "She grinds day and night\n",
      "She grinds from Monday to Friday\n",
      "Work from Friday to Sunday, oh\n",
      "She gon' slang\n",
      "She too smart to crave material things\n",
      "She pushing herself day and night\n",
      "She grinds from Monday to Friday\n",
      "Work from Friday to Sunday, oh\n",
      "Stars in her eyes\n",
      "She fights and she sweats those sleepless nights\n",
      "But she don't mind, she loves the grind\n",
      "She grinds from Monday to Friday\n",
      "Works from Friday to Sunday, yeah, yeah\n",
      "She gon' slang\n",
      "Too smart to crave material things\n",
      "Stacking her paper, stacking her cake up\n",
      "She grinds from Monday to Friday\n",
      "Works from Friday to Sunday\n",
      "\n",
      "Six inch heels, she walked in the club like nobody's business\n",
      "Goddamn, she murdered everybody and I was her witness\n",
      "She works for the money, she work for the money\n",
      "(Know just what to do to make you love me)\n",
      "From the start to the finish\n",
      "And she worth every dollar, she worth every dollar (Love me)\n",
      "And she worth every minute\n",
      "\n",
      "Ooh, boy, I'll make you feel\n",
      "You'll always come back to me\n",
      "Come back, come back\n",
      "Come back, come back\n",
      "Come back, come backI found the truth beneath your lies\n",
      "And true love never has to hide\n",
      "True love never has to hide\n",
      "I'll trade your broken wings for mine\n",
      "Trade your broken wings for mine\n",
      "I've seen your scars and kissed your crime, oh\n",
      "Seen your scars and kissed your crime\n",
      "\n",
      "So many people that I know, they're just tryna touch ya\n",
      "Kiss up and rub up and feel up\n",
      "Kiss up and rub up and feel up on you\n",
      "Give you some time to prove that I can trust you again\n",
      "I'm gonna kiss up and rub up and feel up\n",
      "Kiss up and rub up and feel up on you\n",
      "\n",
      "All night long\n",
      "Love all night long\n",
      "Sweet love all night long\n",
      "Sweet love all night long\n",
      "All I wanna, ain't no other\n",
      "We together, I remember\n",
      "Sweet love all night long\n",
      "\n",
      "Our love was stronger than your pride\n",
      "Beyond your darkness, I'm your light, oh\n",
      "If you get deep, you touch my mind\n",
      "If you get deep, you touch my mind\n",
      "Baptize your tears and dry your eyes, oh\n",
      "Baptize your tears and dry your eyes\n",
      "\n",
      "So many people, I know that they're just tryna touch ya\n",
      "Kiss up and rub up and feel up\n",
      "Kiss up and rub up and feel up on you\n",
      "Give you some time to prove that I can trust you again\n",
      "I'm gonna kiss up and rub up and feel up\n",
      "Kiss up and rub up and feel up on you\n",
      "\n",
      "All night long\n",
      "Love all night long\n",
      "Sweet love all night long\n",
      "Sweet love all night long\n",
      "All I wanna, ain't no other\n",
      "We together, I remember\n",
      "Sweet love all night long\n",
      "\n",
      "They say true love's the greatest weapon\n",
      "To win the war caused by pain, pain\n",
      "But every diamond has imperfections\n",
      "But my love's too pure to watch it chip away\n",
      "Boy, nothing real can be threatened\n",
      "True love breathes salvation back into me\n",
      "With every tear came redemption\n",
      "And my torturer became my remedy\n",
      "\n",
      "So many people, I know that they're just tryna touch ya\n",
      "Kiss up and rub up and feel up\n",
      "Kiss up and rub up and feel up on you\n",
      "Give you some time to prove that I can trust you again\n",
      "I'm gonna kiss up and rub up and feel up\n",
      "Kiss up and rub up and feel up on you\n",
      "\n",
      "All night long\n",
      "Love all night long\n",
      "Sweet love all night long\n",
      "Sweet love all night long\n",
      "All I wanna, ain't no other\n",
      "We together, I remember\n",
      "Sweet love all night long\n",
      "\n",
      "How I missed you, my loveYee-haw\n",
      "Ooh\n",
      "Texas, Texas (Ooh) Texas\n",
      "\n",
      "Came into this world, daddy's little girl\n",
      "And Daddy made a soldier out of me (Ooh)\n",
      "Daddy made me dance and Daddy held my hand (Ooh)\n",
      "And Daddy liked his whiskey with his tea\n",
      "\n",
      "And we rode motorcycles\n",
      "Blackjack, classic vinyl\n",
      "Tough girl is what I had to be\n",
      "He said, \"Take care of your mother\n",
      "Watch out for your sister\"\n",
      "And oh, that's when he gave to me\n",
      "\n",
      "With his gun and his head held high, he told me not to cry\n",
      "Oh, my daddy said shoot\n",
      "Oh, my daddy said shoot\n",
      "With his right hand on his rifle, he swore it on the bible\n",
      "My daddy said shoot\n",
      "Oh, my daddy said shoot\n",
      "He held me in his arms and he taught me to be strong\n",
      "He told me when he's gone, \"Here's what you do\n",
      "When trouble comes in town and men like me come around\"\n",
      "Oh, my daddy said shoot\n",
      "Oh, my daddy said shoot\n",
      "\n",
      "Ooh\n",
      "Yee, woo\n",
      "Ooh\n",
      "Yee-haw (Woo)\n",
      "\n",
      "Daddy made me fight, it wasn't always right\n",
      "But he said, \"Girl, it's your second amendment\" (Ooh)\n",
      "He always played it cool, but Daddy was no fool\n",
      "And right before he died, he said, \"Remember...\"\n",
      "\n",
      "He said, \"Take care of your mother\n",
      "Watch out for your sister\"\n",
      "That's when Daddy looked at me\n",
      "\n",
      "With his gun, with his head held high, he told me not to cry\n",
      "Oh, my daddy said shoot\n",
      "Oh, my daddy said shoot\n",
      "With his right hand on his rifle, he swore it on the bible\n",
      "My daddy said shoot (Yee)\n",
      "Oh, my daddy said shoot (Yee-haw)\n",
      "'Cause he held me in his arms and he taught me to be strong\n",
      "And he told me when he's gone, \"Here's what you do\n",
      "When trouble comes in town and men like me come around\"\n",
      "Oh, my daddy said shoot\n",
      "Oh, my daddy said shoot (Woo)\n",
      "\n",
      "Ooh (Woo)\n",
      "Ooh (Woo)\n",
      "Ooh (Yee)\n",
      "Ooh (Yee-haw)\n",
      "\n",
      "My daddy warned me about men like you\n",
      "He said, \"Baby girl, he's playing you, he's playing you\" (Ooh)\n",
      "My daddy warned me about men like you\n",
      "He said, \"Baby girl, he's playing you, he's playing you (Ooh)\n",
      "'Cause when trouble comes in town and men like me come around\"\n",
      "Oh, my daddy said shoot (Yee)\n",
      "Oh, my daddy said shoot (Yee-haw)\n",
      "\"'Cause when trouble comes to town and men like me come around\"\n",
      "Oh, my daddy said shoot\n",
      "Oh, my daddy said shoot\n",
      "(Good job, Bey)Oh na na na\n",
      "Oh na na na\n",
      "Oh na na na\n",
      "Don't hurt yourself\n",
      "Don't hurt yourself\n",
      "\n",
      "Who the fuck do you think I is?\n",
      "You ain't married to no average bitch, boy\n",
      "You can watch my fat ass twist, boy\n",
      "As I bounce to the next dick, boy\n",
      "And keep your money, I got my own\n",
      "Keep a bigger smile on my face being alone\n",
      "Bad motherfucker, God complex\n",
      "Motivate your ass, call me Malcolm X\n",
      "Yo operator, or innovator\n",
      "Fuck you hater, you can't recreate her, no, nuh-uh\n",
      "You'll never recreate her no, hell no\n",
      "\n",
      "We just got to let it be\n",
      "Let it be, let it be, let it be, baby\n",
      "You just got to let it be\n",
      "Let it be, let it be, let it be, babe\n",
      "\n",
      "When you hurt me, you hurt yourself\n",
      "Don't hurt yourself\n",
      "When you diss me, you diss yourself\n",
      "Don't hurt yourself\n",
      "When you hurt me, you hurt yourself\n",
      "Don't hurt yourself (Don't hurt yourself)\n",
      "Don't hurt yourself\n",
      "When you love me, you love yourself\n",
      "Love God herself\n",
      "\n",
      "I am the dragon breathing fire\n",
      "Beautiful mane, I'm the lion\n",
      "Beautiful man, I know you're lying\n",
      "I am not broken, I'm not crying, I'm not crying\n",
      "You ain't trying hard enough\n",
      "You ain't loving hard enough\n",
      "You don't love me deep enough\n",
      "We not reaching peaks enough\n",
      "Blindly in love, I fucks with you\n",
      "'Til I realize I'm just too much for you\n",
      "I'm just too much for you\n",
      "\n",
      "You just got to let it be\n",
      "Let it be, let it be, let it be, baby\n",
      "Hey baby, who the fuck do you think I is?\n",
      "I smell that fragrance on your Louis knit, boy\n",
      "Just give my fat ass a big kiss, boy\n",
      "Tonight I'm fucking up all your shit, boy\n",
      "\n",
      "When you hurt me, you hurt yourself\n",
      "Try not to hurt yourself\n",
      "When you play me, you play yourself\n",
      "Don't play yourself\n",
      "When you lie to me, you lie to yourself\n",
      "You only lying to yourself (Don't hurt yourself)\n",
      "When you love me, you love yourself\n",
      "Love God herself\n",
      "\n",
      "We just got to let it be\n",
      "Let it be, let it be, let it be, let it be, babe\n",
      "Uh, this is your final warning (Don't hurt yourself)\n",
      "You know I give you life (Don't hurt yourself)\n",
      "If you try this shit again (Don't hurt yourself)\n",
      "You gon' lose your wifeWhat happened at the New Wil'ins?\n",
      "Bitch, I'm back by popular demand\n",
      "\n",
      "Y'all haters corny with that Illuminati mess\n",
      "Paparazzi, catch my fly and my cocky fresh\n",
      "I'm so reckless when I rock my Givenchy dress (Stylin')\n",
      "I'm so possessive so I rock his Roc necklaces\n",
      "My daddy Alabama, momma Louisiana\n",
      "You mix that negro with that Creole, make a Texas bama\n",
      "I like my baby hair with baby hair and afros\n",
      "I like my negro nose with Jackson Five nostrils\n",
      "Earned all this money, but they never take the country out me\n",
      "I got hot sauce in my bag, swag\n",
      "\n",
      "Oh yeah, baby, oh yeah I, ohhhhh, oh, yes, I like that\n",
      "I did not come to play with you hoes, haha\n",
      "I came to slay, bitch\n",
      "I like cornbreads and collard greens, bitch\n",
      "Oh, yes, you besta believe it\n",
      "\n",
      "Y'all haters corny with that lluminati mess\n",
      "Paparazzi, catch my fly and my cocky fresh\n",
      "I'm so reckless when I rock my Givenchy dress (Stylin')\n",
      "I'm so possessive so I rock his Roc necklaces\n",
      "My daddy Alabama, momma Louisiana\n",
      "You mix that negro with that Creole, make a Texas bama\n",
      "I like my baby heir with baby hair and afros\n",
      "I like my negro nose with Jackson Five nostrils\n",
      "Earned all this money but they never take the country out me\n",
      "I got hot sauce in my bag, swag\n",
      "\n",
      "I see it, I want it, I stunt; yellow bone-it\n",
      "I dream it, I work hard, I grind 'til I own it\n",
      "I twirl on them haters, albino alligators\n",
      "El Camino with the seat low, sippin' Cuervo with no chaser\n",
      "Sometimes I go off (I go off), I go hard (I go hard)\n",
      "Get what's mine (Take what's mine), I'm a star (I'm a star)\n",
      "'Cause I slay (Slay), I slay (Hey), I slay (Okay), I slay (Okay)\n",
      "All day (Okay), I slay (Okay), I slay (Okay), I slay (Okay)\n",
      "We gon' slay (Slay), gon' slay (Okay), we slay (Okay), I slay (Okay)\n",
      "I slay (Okay), okay (Okay), I slay (Okay), okay, okay, okay, okay\n",
      "Okay, okay, ladies, now let's get in formation, 'cause I slay\n",
      "Okay, ladies, now let's get in formation, 'cause I slay\n",
      "Prove to me you got some coordination, 'cause I slay\n",
      "Slay trick, or you get eliminated\n",
      "\n",
      "When he fuck me good, I take his ass to Red Lobster, 'cause I slay\n",
      "When he fuck me good, I take his ass to Red Lobster, we gon slay\n",
      "If he hit it right, I might take him on a flight on my chopper, I slay\n",
      "Drop him off at the mall, let him buy some J's, let him shop up, 'cause I slay\n",
      "I might get your song played on the radio station, 'cause I slay\n",
      "I might get your song played on the radio station, 'cause I slay\n",
      "You just might be a black Bill Gates in the making, 'cause I slay\n",
      "I just might be a black Bill Gates in the making\n",
      "\n",
      "I see it, I want it, I stunt; yellow bone-it\n",
      "I dream it, I work hard, I grind 'til I own it\n",
      "I twirl on them haters, albino alligators\n",
      "El Camino with the seat low, sippin' Cuervo with no chaser\n",
      "Sometimes I go off (I go off), I go hard (I go hard)\n",
      "Take what's mine (Take what's mine), I'm a star (I'm a star)\n",
      "'Cause I slay (Slay), I slay (Hey), I slay (Okay), I slay (Okay)\n",
      "I slay (Okay), I slay (Okay), I slay (Okay), I slay (Okay)\n",
      "We gon' slay (Slay), gon' slay (Okay), we slay (Okay), I slay (Okay)\n",
      "I slay (Okay), okay (Okay), I slay (Okay), okay, okay, okay, okay\n",
      "Okay, okay, ladies, now let's get in formation, I slay\n",
      "Okay, ladies, now let's get in formation, 'cause I slay\n",
      "Prove to me you got some coordination, 'cause I slay\n",
      "Slay trick, or you get eliminated, I slay\n",
      "\n",
      "Okay, ladies, now let's get in formation, I slay\n",
      "Okay, ladies, now let's get in formation\n",
      "You know you that bitch when you cause all this conversation\n",
      "Always stay gracious, best revenge is your paper\n",
      "\n",
      "Girl, I hear some thunder\n",
      "Golly, look at that water, boy, oh LordForward\n",
      "Best foot first just in case\n",
      "When we made our way 'til now\n",
      "It's time to listen, it's time to fight\n",
      "Forward\n",
      "Now we're going to hold doors open for a while\n",
      "Now we can be open for a while\n",
      "Forward\n",
      "I love you more than this job, please don't work for me\n",
      "Forward\n",
      "Go back to your sleep in your favorite spot just next to me\n",
      "Forward, ooh, forward\n",
      "\n",
      "Forward, forwardBest Rap Album\n",
      "WINNER: Macklemore and Ryan Lewis - The Heist\n",
      "Drake - Nothing Was The Same\n",
      "JAY Z - Magna Carta…Holy Grail\n",
      "Kendrick Lamar - Good Kid, m.A.A.d City\n",
      "Kanye West - Yeezus\n",
      "Album of the Year\n",
      "WINNER: Daft Punk – Random Access Memories\n",
      "Kendrick Lamar – Good Kid, m.A.A.d City\n",
      "Sara Bareilles - The Blessed Unrest\n",
      "Macklemore and Ryan Lewis – The Heist\n",
      "Taylor Swift – Red\n",
      "Song of the Year\n",
      "WINNER: Lorde – Royals\n",
      "Pink ft. Nate Ruess – Just Give Me A Reason\n",
      "Bruno Mars – Locked Out Of Heaven\n",
      "Katy Perry – Roar\n",
      "Macklemore and Ryan Lewis ft. Mary Lambert – Same Love\n",
      "Best Rap Song\n",
      "WINNER: Macklemore and Ryan Lewis ft. Wanz - Thrift Shop\n",
      "ASAP Rocky ft. Drake, 2 Chainz & Kendrick Lamar - Fuckin' Problems\n",
      "JAY Z ft. Justin Timberlake - Holy Grail\n",
      "Kanye West - New Slaves\n",
      "Drake - Started From The Bottom\n",
      "Best Pop Duo Or Group Performance\n",
      "WINNER: Daft Punk ft. Pharrell – Get Lucky\n",
      "Pink ft. Nate Ruess – Just Give Me A Reason\n",
      "Rihanna ft. Mikky Ekko – Stay\n",
      "Robin Thicke ft. Pharrell and T.I. – Blurred Lines\n",
      "Justin Timberlake ft. JAY Z – Suit & Tie\n",
      "Best R&B Album\n",
      "WINNER: Alicia Keys - Girl On Fire\n",
      "Faith Evans - R&B Divas\n",
      "John Legend - Love In The Future\n",
      "TGT - Three Kings\n",
      "Best Urban Contemporary Album\n",
      "WINNER: Rihanna - Unapologetic\n",
      "Tamar Braxton - Love And War\n",
      "Fantasia - Side Effects Of You\n",
      "Salaam Remi - One: In The Chamber\n",
      "Mack Wilds -  New York: A Love Story\n",
      "Best Country Album\n",
      "WINNER: Kacey Musgraves – Same Trailer Different Park\n",
      "Jason Aldean – Night Train\n",
      "Tim McGraw – Two Lanes of Freedom\n",
      "Blake Shelton – Based on a True Story\n",
      "Taylor Swift – Red\n",
      "Best New Artist\n",
      "WINNER: Macklemore and Ryan Lewis\n",
      "James Blake\n",
      "Ed Sheeran\n",
      "Kendrick Lamar\n",
      "Kacey Musgraves\n",
      "Record of the Year\n",
      "WINNER: Daft Punk ft. Pharrell – Get Lucky\n",
      "Imagine Dragons – Radioactive\n",
      "Lorde – Royals\n",
      "Bruno Mars – Locked Out Of Heaven\n",
      "Robin Thicke ft. T.I. and Pharrell – Blurred Lines\n",
      "Best Rap/Sung Collaboration\n",
      "WINNER: JAY Z ft. Justin Timberlake - Holy Grail\n",
      "J. Cole ft. Miguel - Power Trip\n",
      "JAY Z ft. Beyoncé - Part II (On The Run)\n",
      "Kendrick Lamar ft. Mary J. Blige - Now Or Never\n",
      "Wiz Khalifa ft. The Weeknd - Remember You\n",
      "Best Rap Performance\n",
      "WINNER: Macklemore and Ryan Lewis ft. Wanz - Thrift Shop\n",
      "Drake - Started From The Bottom\n",
      "Eminem - Berzerk\n",
      "Jay Z - Tom Ford\n",
      "Kendrick Lamar - Swimming Pools (Drank)\n",
      "Best Pop Vocal Album\n",
      "WINNER: Bruno Mars - Unorthodox Jukebox\n",
      "Lana Del Rey - Paradise\n",
      "Lorde - Pure Heroine\n",
      "Robin Thicke - Blurred Lines\n",
      "Justin Timberlake - The 20/20 Experience\n",
      "Best R&B Song (A Songwriters Award)\n",
      "WINNER: James Fauntleroy, Jerome Harmon, Timothy Mosley & Justin Timberlake - Pusher Love Girl\n",
      "Anthony Hamilton & Jairus Mozee - Best Of Me\n",
      "Tamar Braxton, Darhyl Camper, Jr., LaShawn Daniels & Makeba Riddick - Love And War\n",
      "PJ Morton ft. Stevie Wonder - Only One\n",
      "Fantasia Barrino, Missy Elliott, Al Sherrod Lambert, Harmony Samuels & Kyle Stewart - Without Me\n",
      "Best Traditional R&B Performance\n",
      "WINNER: Gary Clark Jr. - Please Come Home\n",
      "Fantasia - Get It Right\n",
      "Maysa - Quiet Fire\n",
      "Gregory Porter - Hey Laura\n",
      "Ryan Shaw - Yesterday\n",
      "Best R&B Performance\n",
      "WINNER: Snarky Puppy With Lalah Hathaway - Something\n",
      "Tamar Braxton - Love And War\n",
      "Anthony Hamilton - Best Of Me\n",
      "Hiatus Kaiyote ft. Q-Tip - Nakamarra\n",
      "Miguel ft. Kendrick Lamar - How Many Drinks?\n",
      "Best Reggae Album\n",
      "WINNER: Ziggy Marley - Ziggy Marley In Concert\n",
      "Beres Hammond - One Love, One Life\n",
      "Sizzla - The Messiah\n",
      "Sly & Robbie And The Jam Masters - Reggae Connection\n",
      "Snoop Lion - Reincarnated\n",
      "Best Dance/Electronica Album\n",
      "WINNER: Daft Punk - Random Access Memories\n",
      "Disclosure - Settle\n",
      "Calvin Harris - 18 Months\n",
      "Kaskade - Atmosphere\n",
      "Pretty Lights - A Color Map Of The Sun\n",
      "Best Alternative Album\n",
      "WINNER: Vampire Weekend - Modern Vampires Of The City\n",
      "Neko Case - The Worse Things Get, The Harder I Fight, The Harder I Fight, The More I Love You\n",
      "The National - Trouble Will Find Me\n",
      "Nine Inch Nails - Hesitation Marks\n",
      "Tame Impala - LonerismHold up, they don't love you like I love you\n",
      "Slow down, they don't love you like I love you\n",
      "Back up, they don't love you like I love you\n",
      "Step down, they don't love you like I love you\n",
      "Can't you see there's no other man above you?\n",
      "What a wicked way to treat the girl that loves you\n",
      "Hold up, they don't love you like I love you\n",
      "Oh, down, they don't love you like I love you\n",
      "\n",
      "Something don't feel right because it ain't right\n",
      "Especially comin' up after midnight\n",
      "I smell your secrets, and I'm not too perfect\n",
      "To ever feel this worthless\n",
      "How did it come down to this? Scrolling through your call list\n",
      "I don't wanna lose my pride, but I'ma fuck me up a bitch\n",
      "Know that I kept it sexy, you know I kept it fun\n",
      "There's something that I'm missing, maybe my head for one\n",
      "\n",
      "What's worst, lookin' jealous or crazy? Jealous or crazy?\n",
      "Or like being walked all over lately, walked all over lately\n",
      "I'd rather be crazy\n",
      "\n",
      "Hold up, they don't love you like I love you\n",
      "Slow down, they don't love you like I love you\n",
      "Back up, they don't love you like I love you\n",
      "Step down, they don't love you like I love you\n",
      "Can't you see there's no other man above you?\n",
      "What a wicked way to treat the girl that loves you\n",
      "Hold up, they don't love you like I love you\n",
      "Slow down, they don't love you like I love you\n",
      "\n",
      "Let's imagine for a moment that you never made a name for yourself\n",
      "Or mastered wealth, they had you labeled as a king\n",
      "Never made it out the cage, still out there movin' in them streets\n",
      "Never had the baddest woman in the game up in your sheets\n",
      "Would they be down to ride? No\n",
      "They used to hide from you, lie to you\n",
      "But y'all know we were made for each other\n",
      "So I find you and hold you down\n",
      "Me sing se\n",
      "\n",
      "Hold up, they don't love you like I love you\n",
      "Slow down, they don't love you like I love you\n",
      "Back up, they don't love you like I love you\n",
      "Step down, they don't love you like I love you\n",
      "Can't you see there's no other man above you?\n",
      "What a wicked way to treat the girl that loves you\n",
      "Hold up, they don't love you like I love you\n",
      "Slow down, they don't love you like I love you\n",
      "\n",
      "Hey, this such a shame\n",
      "You let this good love go to waste\n",
      "I always keep the top tier, 5 star\n",
      "Backseat lovin' in the car\n",
      "Like make that wood, like make that wood\n",
      "Holly like a boulevard\n",
      "\n",
      "What's worse, lookin' jealous or crazy? Jealous and crazy?\n",
      "Or like being walked all over lately, walked all over lately\n",
      "I'd rather be crazy\n",
      "\n",
      "Hold up, they don't love you like I love you\n",
      "Slow down, they don't love you like I love you\n",
      "Back up, they don't love you like I love you\n",
      "Step down, they don't love you like I love you\n",
      "Can't you see there's no other man above you?\n",
      "What a wicked way to treat the girl that loves you\n",
      "Hold up, they don't love you like I love you\n",
      "Oh, down, they don't love you like I love you\n",
      "\n",
      "I hop up out my bed and get my swag on\n",
      "I look in the mirror, say, \"What's up?\"\n",
      "What's up, what's up, what's up\n",
      "I hop up out my bed and get my swag on\n",
      "I look in the mirror, say, \"What's up?\"\n",
      "What's up, what's up, what's upTen times out of nine, I know you‘re lying\n",
      "But nine times out of ten, I know you're trying\n",
      "So I'm trying to be fair\n",
      "And you're trying to be there and to care\n",
      "And you're caught up in your permanent emotions\n",
      "And all the loving I've been giving goes unnoticed\n",
      "It's just floating in the air, lookie there\n",
      "Are you aware you're my lifeline, are you tryna kill me?\n",
      "If I wasn't me, would you still feel me?\n",
      "Like on my worst day? Or am I not thirsty, enough?\n",
      "I don't care about the lights or the beams\n",
      "Spend my life in the dark for the sake of you and me\n",
      "Only way to go is up, skin thick, too tough, mmm\n",
      "\n",
      "'Cause you, you, you, you and me could move a mountain\n",
      "You, you, you, you and me could calm a war down\n",
      "You, you, you, you and me could make it rain now\n",
      "You, you, you, you and me could stop this love drought\n",
      "\n",
      "Nine times out of ten, I'm in my feelings\n",
      "But ten times out of nine, I'm only human\n",
      "Tell me, what did I do wrong?\n",
      "Feel like that question has been posed, I'm movin' on\n",
      "I always been committed, I been focused\n",
      "I always paid attention, been devoted\n",
      "Tell me, what did I do wrong?\n",
      "Oh, already asked that, my bad\n",
      "But you my lifeline, think you tryna kill me\n",
      "If I wasn't B, would you still feel me?\n",
      "Like on my worst day? Or am I not thirsty, enough?\n",
      "I don't care about the lights or the beams\n",
      "Spend my life in the dark for the sake of you and me\n",
      "Only way to go is up, them old bitches so wack\n",
      "I'm so tough, wassup?\n",
      "\n",
      "'Cause you, you, you, you and me could move a mountain\n",
      "You, you, you, you and me could calm a war down\n",
      "You, you, you, you and me could make it rain now\n",
      "And you, you, you, you and me will stop this love drought\n",
      "\n",
      "You, you, you, you and me will stop this love drought\n",
      "You, you, you, you and me will stop this love droughtYou can taste the dishonesty\n",
      "It's all over your breath as you pass it off so cavalier\n",
      "But even that's a test\n",
      "Constantly aware of it all\n",
      "My lonely ear pressed against the walls of your world\n",
      "\n",
      "Pray to catch you whispering\n",
      "I pray you catch me listening\n",
      "I'm prayin' to catch you whispering\n",
      "I pray you catch me\n",
      "I'm prayin' to catch you whispering\n",
      "I pray you catch me listening\n",
      "I pray you catch me\n",
      "\n",
      "Nothing else ever seems to hurt like the smile on your face\n",
      "When it's only in my memory, it don't hit me quite the same\n",
      "Maybe it's a cause for concern, but I'm not at ease\n",
      "Keeping my head to the curb\n",
      "\n",
      "Pray to catch you whispering\n",
      "I pray you catch me listening\n",
      "I pray to catch you whispering (Whisper, whisper)\n",
      "I pray you catch me (Whisper, whisper)\n",
      "I pray you catch me\n",
      "I pray you catch me (Pray you)\n",
      "I'm praying you catch me\n",
      "\n",
      "What are you doing, my love?We built sandcastles that washed away\n",
      "I made you cry when I walked away, oh\n",
      "And although I promised that I couldn't stay, baby\n",
      "Every promise don't work out that way, oh, babe\n",
      "Every promise don't work out that way\n",
      "\n",
      "Dishes smashed on my counter from our last encounter\n",
      "Pictures snatched out the frame\n",
      "Bitch, I scratched out your name and your face\n",
      "What is it about you that I can't erase, baby?\n",
      "When every promise don't work out that way, no no, babe\n",
      "When every promise don't work out that way\n",
      "\n",
      "And your heart is broken 'cause I walked away\n",
      "Show me your scars and I won't walk away, oh\n",
      "And I know I promised that I couldn't stay, baby\n",
      "Every promise don't work out that way, no, no, no, no, no\n",
      "Every promise don't work out that waySorry, I ain't sorry\n",
      "Sorry, I ain't sorry\n",
      "I ain't sorry, nigga, nah\n",
      "Sorry, I ain't sorry\n",
      "Sorry, I ain't sorry\n",
      "I ain't sorry\n",
      "\n",
      "He trying to roll me up (I ain't sorry)\n",
      "I ain't picking up (I ain't sorry)\n",
      "Headed to the club (I ain't sorry)\n",
      "I ain't thinking 'bout you (I ain't sorry)\n",
      "Me and my ladies sip my D'USSÉ cups\n",
      "I don't give a fuck, chucking my deuces up\n",
      "Suck on my balls, pause, I had enough (Sorry, I ain't sorry)\n",
      "I ain't thinking 'bout you\n",
      "I ain't thinking 'bout\n",
      "\n",
      "Middle fingers up, put them hands high\n",
      "Wave it in his face, tell him, boy, bye (Sorry, I ain't sorry)\n",
      "Tell him, boy, bye, boy, bye, middle fingers up\n",
      "I ain't thinking 'bout you\n",
      "\n",
      "Sorry, I ain't sorry (You)\n",
      "Sorry, I ain't sorry (You)\n",
      "I ain't sorry, nigga, nah\n",
      "I ain't thinking 'bout you\n",
      "Sorry, I ain't sorry\n",
      "Sorry, I ain't sorry, I ain't sorry\n",
      "No, no, hell nah\n",
      "\n",
      "Now you wanna say you're sorry\n",
      "Now you wanna call me crying\n",
      "Now you gotta see me wilding\n",
      "Now I'm the one that's lying\n",
      "And I don't feel bad about it\n",
      "It's exactly what you get\n",
      "Stop interrupting my grinding\n",
      "(You interrupting my grinding)\n",
      "I ain't thinking 'bout you\n",
      "\n",
      "Sorry, I ain't sorry\n",
      "I ain't thinking 'bout you\n",
      "I ain't thinking 'bout you\n",
      "Sorry, I ain't sorry\n",
      "I ain't thinking 'bout you\n",
      "I ain't thinking 'bout you\n",
      "\n",
      "Middle fingers up, put them hands high\n",
      "Wave it in his face, tell him, boy, bye (Bye) (Sorry, I ain't sorry)\n",
      "Tell him, boy, bye (Bye), boy, bye (Bye)\n",
      "Middle fingers up, I ain't thinking 'bout you\n",
      "\n",
      "Sorry, I ain't sorry\n",
      "Sorry, I ain't sorry\n",
      "I ain't sorry, nigga, nah\n",
      "Sorry, I ain't sorry\n",
      "Sorry, I ain't sorry\n",
      "I ain't sorry\n",
      "No, no, hell nah\n",
      "\n",
      "Looking at my watch, he shoulda been home\n",
      "Today, I regret the night I put that ring on\n",
      "He always got them fucking excuses\n",
      "I pray to the Lord you reveal what his truth is\n",
      "\n",
      "I left a note in the hallway\n",
      "By the time you read it, I'll be far away\n",
      "I'm far away\n",
      "But I ain't fucking with nobody\n",
      "Let's have a toast to the good life\n",
      "Suicide before you see this tear fall down my eyes\n",
      "Me and my baby, we gon' be alright\n",
      "We gon' live a good life\n",
      "Big homie better grow up\n",
      "Me and my whoadies 'bout to stroll up\n",
      "I see them boppers in the corner\n",
      "They sneaking out the back door\n",
      "He only want me when I'm not there\n",
      "He better call Becky with the good hair\n",
      "He better call Becky with the good hairThe big homie better hold up (Hold up)\n",
      "Big homie better hold up (Hold up)\n",
      "My whoadies 'bout to roll up (Roll up)\n",
      "Young whoadies 'bout to stroll up (Stroll up)\n",
      "They comin' through the back door\n",
      "The big homie better hold up (Hold up)\n",
      "Me and my whoadies 'bout to roll up (Roll up)\n",
      "I see them boppers in the corner (Corner)\n",
      "Sneaking out the back door\n",
      "\n",
      "We really could be\n",
      "Living young, wild and free\n",
      "\n",
      "I left a note in the hallway (Hallway)\n",
      "By the time you read it, I'll be far away (Far away)\n",
      "I ain't fucking with nobody (Nobody)\n",
      "Toast to the good life (Good life)\n",
      "Suicide before you see my tears in my eyes (In my eyes)\n",
      "Me and my daughter, we gon' be alright\n",
      "We gon' live a good life (Good life)\n",
      "\n",
      "Big homie better hold up (Hold up)\n",
      "Me and my whoadies 'bout to roll up (Roll up)\n",
      "I say my whoadies 'bout to stroll up (Stroll up)\n",
      "They comin' through the back door\n",
      "Big homie better hold up (Hold up)\n",
      "Me and my whoadies 'bout to stroll up (Stroll up)\n",
      "I see them boppers in the corner (Corner)\n",
      "Sneaking out the back door\n",
      "\n",
      "We really could be\n",
      "Living young, wild and free\n",
      "\n",
      "Hell no, I ain't gon' call you back (Call you back)\n",
      "Chase me 'round the world just to fall back (Fall back)\n",
      "Ain't nobody got no time for that\n",
      "Tryna keep my family right\n",
      "Swear you're giving me your heart, but I don't care (Don't care)\n",
      "Better call Becky with the good hair (The good hair)\n",
      "You only want me when I'm not there\n",
      "Boy, you better get in line\n",
      "\n",
      "Sometimes I regret the day I put this ring on (Get in line)\n",
      "Looking at my watch he should've been home (Get in line)\n",
      "He always got them motherfucking excuses (Get in line)\n",
      "I pray to God you reveal to me what his truth is (Get in line)\n",
      "\n",
      "Hey, big homie better grow up (Get in line)\n",
      "Ask you something then you choke up (Get in line)\n",
      "Me and my whoadies gonna roll up\n",
      "Beating down your back door (Get in line)\n",
      "Big homie better hold up (Get in line)\n",
      "You've been running game on the wrong one (Get in line)\n",
      "I'm runnin' so fast for the long run\n",
      "Runnin' out the back door (Get in line)\n",
      "\n",
      "We truly could have been\n",
      "Living young, wild and free (Get in line)\n",
      "We truly could have been\n",
      "Living young, wild and free\n"
     ]
    }
   ],
   "source": [
    "print(filepath)\n",
    "print(stopwords)\n",
    "print(number_of_desired_words)\n",
    "print(full_text)"
   ]
  },
  {
   "cell_type": "code",
   "execution_count": 10,
   "id": "5b828762",
   "metadata": {},
   "outputs": [
    {
     "name": "stdout",
     "output_type": "stream",
     "text": [
      "['six', 'inch', 'heels', 'walked', 'club', 'like', 'nobody', 'business', 'goddamn', 'murdered', 'everybody', 'witness', 'stacking', 'money', 'money', 'everywhere', 'goes', 'know', 'pesos', 'mexico', 'de', 'uno', 'commas', 'decimals', 'gotta', 'give', 'professional', 'mixing', 'ace', 'hennessy', 'love', 'way', 'tastes', 'recipe', 'rushing', 'veins', 'like', 'ecstasy', 'oh', 'already', 'made', 'enough', 'never', 'leave', 'six', 'inch', 'heels', 'walked', 'club', 'like', 'nobody', 'business', 'goddamn', 'murdered', 'everybody', 'witness', 'works', 'money', 'work', 'money', 'start', 'finish', 'worth', 'every', 'dollar', 'worth', 'every', 'dollar', 'worth', 'every', 'minute', 'work', 'money', 'work', 'money', 'work', 'money', 'work', 'money', 'stack', 'money', 'money', 'everywhere', 'goes', 'got', 'sake', 'yamazaki', 'straight', 'tokyo', 'oh', 'baby', 'know', 'got', 'commas', 'decimals', 'gotta', 'give', 'cause', 'professional', 'six', 'inch', 'heels', 'walked', 'club', 'like', 'nobody', 'business', 'goddamn', 'goddamn', 'babe', 'murdered', 'everybody', 'witness', 'oh', 'works', 'money', 'work', 'work', 'money', 'work', 'start', 'finish', 'oh', 'baby', 'worth', 'every', 'dollar', 'worth', 'every', 'worth', 'every', 'dollar', 'work', 'worth', 'every', 'minute', 'stars', 'eyes', 'fights', 'power', 'keeping', 'time', 'grinds', 'day', 'night', 'grinds', 'monday', 'friday', 'work', 'friday', 'sunday', 'oh', 'gon', 'slang', 'smart', 'crave', 'material', 'things', 'pushing', 'day', 'night', 'grinds', 'monday', 'friday', 'work', 'friday', 'sunday', 'oh', 'stars', 'eyes', 'fights', 'sweats', 'sleepless', 'nights', 'mind', 'loves', 'grind', 'grinds', 'monday', 'friday', 'works', 'friday', 'sunday', 'yeah', 'yeah', 'gon', 'slang', 'smart', 'crave', 'material', 'things', 'stacking', 'paper', 'stacking', 'cake', 'grinds', 'monday', 'friday', 'works', 'friday', 'sunday', 'six', 'inch', 'heels', 'walked', 'club', 'like', 'nobody', 'business', 'goddamn', 'murdered', 'everybody', 'witness', 'works', 'money', 'work', 'money', 'know', 'make', 'love', 'start', 'finish', 'worth', 'every', 'dollar', 'worth', 'every', 'dollar', 'love', 'worth', 'every', 'minute', 'ooh', 'boy', 'make', 'feel', 'always', 'come', 'back', 'come', 'back', 'come', 'back', 'come', 'back', 'come', 'back', 'come', 'back', 'come', 'backi', 'found', 'truth', 'beneath', 'lies', 'true', 'love', 'never', 'hide', 'true', 'love', 'never', 'hide', 'trade', 'broken', 'wings', 'mine', 'trade', 'broken', 'wings', 'mine', 'seen', 'scars', 'kissed', 'crime', 'oh', 'seen', 'scars', 'kissed', 'crime', 'many', 'people', 'know', 're', 'tryna', 'touch', 'ya', 'kiss', 'rub', 'feel', 'kiss', 'rub', 'feel', 'give', 'time', 'prove', 'trust', 'm', 'gonna', 'kiss', 'rub', 'feel', 'kiss', 'rub', 'feel', 'night', 'long', 'love', 'night', 'long', 'sweet', 'love', 'night', 'long', 'sweet', 'love', 'night', 'long', 'wanna', 'ain', 'together', 'remember', 'sweet', 'love', 'night', 'long', 'love', 'stronger', 'pride', 'beyond', 'darkness', 'm', 'light', 'oh', 'get', 'deep', 'touch', 'mind', 'get', 'deep', 'touch', 'mind', 'baptize', 'tears', 'dry', 'eyes', 'oh', 'baptize', 'tears', 'dry', 'eyes', 'many', 'people', 'know', 're', 'tryna', 'touch', 'ya', 'kiss', 'rub', 'feel', 'kiss', 'rub', 'feel', 'give', 'time', 'prove', 'trust', 'm', 'gonna', 'kiss', 'rub', 'feel', 'kiss', 'rub', 'feel', 'night', 'long', 'love', 'night', 'long', 'sweet', 'love', 'night', 'long', 'sweet', 'love', 'night', 'long', 'wanna', 'ain', 'together', 'remember', 'sweet', 'love', 'night', 'long', 'say', 'true', 'love', 'greatest', 'weapon', 'win', 'war', 'caused', 'pain', 'pain', 'every', 'diamond', 'imperfections', 'love', 'pure', 'watch', 'chip', 'away', 'boy', 'nothing', 'real', 'threatened', 'true', 'love', 'breathes', 'salvation', 'back', 'every', 'tear', 'came', 'redemption', 'torturer', 'became', 'remedy', 'many', 'people', 'know', 're', 'tryna', 'touch', 'ya', 'kiss', 'rub', 'feel', 'kiss', 'rub', 'feel', 'give', 'time', 'prove', 'trust', 'm', 'gonna', 'kiss', 'rub', 'feel', 'kiss', 'rub', 'feel', 'night', 'long', 'love', 'night', 'long', 'sweet', 'love', 'night', 'long', 'sweet', 'love', 'night', 'long', 'wanna', 'ain', 'together', 'remember', 'sweet', 'love', 'night', 'long', 'missed', 'loveyee', 'haw', 'ooh', 'texas', 'texas', 'ooh', 'texas', 'came', 'world', 'daddy', 'little', 'girl', 'daddy', 'made', 'soldier', 'ooh', 'daddy', 'made', 'dance', 'daddy', 'held', 'hand', 'ooh', 'daddy', 'liked', 'whiskey', 'tea', 'rode', 'motorcycles', 'blackjack', 'classic', 'vinyl', 'tough', 'girl', 'said', 'take', 'care', 'mother', 'watch', 'sister', 'oh', 'gave', 'gun', 'head', 'held', 'high', 'told', 'cry', 'oh', 'daddy', 'said', 'shoot', 'oh', 'daddy', 'said', 'shoot', 'right', 'hand', 'rifle', 'swore', 'bible', 'daddy', 'said', 'shoot', 'oh', 'daddy', 'said', 'shoot', 'held', 'arms', 'taught', 'strong', 'told', 'gone', 'trouble', 'comes', 'town', 'men', 'like', 'come', 'around', 'oh', 'daddy', 'said', 'shoot', 'oh', 'daddy', 'said', 'shoot', 'ooh', 'yee', 'woo', 'ooh', 'yee', 'haw', 'woo', 'daddy', 'made', 'fight', 'wasn', 'always', 'right', 'said', 'girl', 'second', 'amendment', 'ooh', 'always', 'played', 'cool', 'daddy', 'fool', 'right', 'died', 'said', 'remember', 'said', 'take', 'care', 'mother', 'watch', 'sister', 'daddy', 'looked', 'gun', 'head', 'held', 'high', 'told', 'cry', 'oh', 'daddy', 'said', 'shoot', 'oh', 'daddy', 'said', 'shoot', 'right', 'hand', 'rifle', 'swore', 'bible', 'daddy', 'said', 'shoot', 'yee', 'oh', 'daddy', 'said', 'shoot', 'yee', 'haw', 'cause', 'held', 'arms', 'taught', 'strong', 'told', 'gone', 'trouble', 'comes', 'town', 'men', 'like', 'come', 'around', 'oh', 'daddy', 'said', 'shoot', 'oh', 'daddy', 'said', 'shoot', 'woo', 'ooh', 'woo', 'ooh', 'woo', 'ooh', 'yee', 'ooh', 'yee', 'haw', 'daddy', 'warned', 'men', 'like', 'said', 'baby', 'girl', 'playing', 'playing', 'ooh', 'daddy', 'warned', 'men', 'like', 'said', 'baby', 'girl', 'playing', 'playing', 'ooh', 'cause', 'trouble', 'comes', 'town', 'men', 'like', 'come', 'around', 'oh', 'daddy', 'said', 'shoot', 'yee', 'oh', 'daddy', 'said', 'shoot', 'yee', 'haw', 'cause', 'trouble', 'comes', 'town', 'men', 'like', 'come', 'around', 'oh', 'daddy', 'said', 'shoot', 'oh', 'daddy', 'said', 'shoot', 'good', 'job', 'bey', 'oh', 'na', 'na', 'na', 'oh', 'na', 'na', 'na', 'oh', 'na', 'na', 'na', 'hurt', 'hurt', 'fuck', 'think', 'ain', 'married', 'average', 'bitch', 'boy', 'watch', 'fat', 'ass', 'twist', 'boy', 'bounce', 'next', 'dick', 'boy', 'keep', 'money', 'got', 'keep', 'bigger', 'smile', 'face', 'alone', 'bad', 'motherfucker', 'god', 'complex', 'motivate', 'ass', 'call', 'malcolm', 'x', 'yo', 'operator', 'innovator', 'fuck', 'hater', 'recreate', 'nuh', 'uh', 'never', 'recreate', 'hell', 'got', 'let', 'let', 'let', 'let', 'baby', 'got', 'let', 'let', 'let', 'let', 'babe', 'hurt', 'hurt', 'hurt', 'diss', 'diss', 'hurt', 'hurt', 'hurt', 'hurt', 'hurt', 'hurt', 'love', 'love', 'love', 'god', 'dragon', 'breathing', 'fire', 'beautiful', 'mane', 'm', 'lion', 'beautiful', 'man', 'know', 're', 'lying', 'broken', 'm', 'crying', 'm', 'crying', 'ain', 'trying', 'hard', 'enough', 'ain', 'loving', 'hard', 'enough', 'love', 'deep', 'enough', 'reaching', 'peaks', 'enough', 'blindly', 'love', 'fucks', 'til', 'realize', 'm', 'much', 'm', 'much', 'got', 'let', 'let', 'let', 'let', 'baby', 'hey', 'baby', 'fuck', 'think', 'smell', 'fragrance', 'louis', 'knit', 'boy', 'give', 'fat', 'ass', 'big', 'kiss', 'boy', 'tonight', 'm', 'fucking', 'shit', 'boy', 'hurt', 'hurt', 'try', 'hurt', 'play', 'play', 'play', 'lie', 'lie', 'lying', 'hurt', 'love', 'love', 'love', 'god', 'got', 'let', 'let', 'let', 'let', 'let', 'babe', 'uh', 'final', 'warning', 'hurt', 'know', 'give', 'life', 'hurt', 'try', 'shit', 'hurt', 'gon', 'lose', 'wifewhat', 'happened', 'new', 'wil', 'ins', 'bitch', 'm', 'back', 'popular', 'demand', 'y', 'haters', 'corny', 'illuminati', 'mess', 'paparazzi', 'catch', 'fly', 'cocky', 'fresh', 'm', 'reckless', 'rock', 'givenchy', 'dress', 'stylin', 'm', 'possessive', 'rock', 'roc', 'necklaces', 'daddy', 'alabama', 'momma', 'louisiana', 'mix', 'negro', 'creole', 'make', 'texas', 'bama', 'like', 'baby', 'hair', 'baby', 'hair', 'afros', 'like', 'negro', 'nose', 'jackson', 'five', 'nostrils', 'earned', 'money', 'never', 'take', 'country', 'got', 'hot', 'sauce', 'bag', 'swag', 'oh', 'yeah', 'baby', 'oh', 'yeah', 'ohhhhh', 'oh', 'yes', 'like', 'come', 'play', 'hoes', 'haha', 'came', 'slay', 'bitch', 'like', 'cornbreads', 'collard', 'greens', 'bitch', 'oh', 'yes', 'besta', 'believe', 'y', 'haters', 'corny', 'lluminati', 'mess', 'paparazzi', 'catch', 'fly', 'cocky', 'fresh', 'm', 'reckless', 'rock', 'givenchy', 'dress', 'stylin', 'm', 'possessive', 'rock', 'roc', 'necklaces', 'daddy', 'alabama', 'momma', 'louisiana', 'mix', 'negro', 'creole', 'make', 'texas', 'bama', 'like', 'baby', 'heir', 'baby', 'hair', 'afros', 'like', 'negro', 'nose', 'jackson', 'five', 'nostrils', 'earned', 'money', 'never', 'take', 'country', 'got', 'hot', 'sauce', 'bag', 'swag', 'see', 'want', 'stunt', 'yellow', 'bone', 'dream', 'work', 'hard', 'grind', 'til', 'twirl', 'haters', 'albino', 'alligators', 'el', 'camino', 'seat', 'low', 'sippin', 'cuervo', 'chaser', 'sometimes', 'go', 'go', 'go', 'hard', 'go', 'hard', 'get', 'mine', 'take', 'mine', 'm', 'star', 'm', 'star', 'cause', 'slay', 'slay', 'slay', 'hey', 'slay', 'okay', 'slay', 'okay', 'day', 'okay', 'slay', 'okay', 'slay', 'okay', 'slay', 'okay', 'gon', 'slay', 'slay', 'gon', 'slay', 'okay', 'slay', 'okay', 'slay', 'okay', 'slay', 'okay', 'okay', 'okay', 'slay', 'okay', 'okay', 'okay', 'okay', 'okay', 'okay', 'okay', 'ladies', 'let', 'get', 'formation', 'cause', 'slay', 'okay', 'ladies', 'let', 'get', 'formation', 'cause', 'slay', 'prove', 'got', 'coordination', 'cause', 'slay', 'slay', 'trick', 'get', 'eliminated', 'fuck', 'good', 'take', 'ass', 'red', 'lobster', 'cause', 'slay', 'fuck', 'good', 'take', 'ass', 'red', 'lobster', 'gon', 'slay', 'hit', 'right', 'might', 'take', 'flight', 'chopper', 'slay', 'drop', 'mall', 'let', 'buy', 'j', 'let', 'shop', 'cause', 'slay', 'might', 'get', 'song', 'played', 'radio', 'station', 'cause', 'slay', 'might', 'get', 'song', 'played', 'radio', 'station', 'cause', 'slay', 'might', 'black', 'bill', 'gates', 'making', 'cause', 'slay', 'might', 'black', 'bill', 'gates', 'making', 'see', 'want', 'stunt', 'yellow', 'bone', 'dream', 'work', 'hard', 'grind', 'til', 'twirl', 'haters', 'albino', 'alligators', 'el', 'camino', 'seat', 'low', 'sippin', 'cuervo', 'chaser', 'sometimes', 'go', 'go', 'go', 'hard', 'go', 'hard', 'take', 'mine', 'take', 'mine', 'm', 'star', 'm', 'star', 'cause', 'slay', 'slay', 'slay', 'hey', 'slay', 'okay', 'slay', 'okay', 'slay', 'okay', 'slay', 'okay', 'slay', 'okay', 'slay', 'okay', 'gon', 'slay', 'slay', 'gon', 'slay', 'okay', 'slay', 'okay', 'slay', 'okay', 'slay', 'okay', 'okay', 'okay', 'slay', 'okay', 'okay', 'okay', 'okay', 'okay', 'okay', 'okay', 'ladies', 'let', 'get', 'formation', 'slay', 'okay', 'ladies', 'let', 'get', 'formation', 'cause', 'slay', 'prove', 'got', 'coordination', 'cause', 'slay', 'slay', 'trick', 'get', 'eliminated', 'slay', 'okay', 'ladies', 'let', 'get', 'formation', 'slay', 'okay', 'ladies', 'let', 'get', 'formation', 'know', 'bitch', 'cause', 'conversation', 'always', 'stay', 'gracious', 'best', 'revenge', 'paper', 'girl', 'hear', 'thunder', 'golly', 'look', 'water', 'boy', 'oh', 'lordforward', 'best', 'foot', 'first', 'case', 'made', 'way', 'til', 'time', 'listen', 'time', 'fight', 'forward', 're', 'going', 'hold', 'doors', 'open', 'open', 'forward', 'love', 'job', 'please', 'work', 'forward', 'go', 'back', 'sleep', 'favorite', 'spot', 'next', 'forward', 'ooh', 'forward', 'forward', 'forwardbest', 'rap', 'album', 'winner', 'macklemore', 'ryan', 'lewis', 'heist', 'drake', 'nothing', 'jay', 'z', 'magna', 'carta', 'holy', 'grail', 'kendrick', 'lamar', 'good', 'kid', 'm', 'd', 'city', 'kanye', 'west', 'yeezus', 'album', 'year', 'winner', 'daft', 'punk', 'random', 'access', 'memories', 'kendrick', 'lamar', 'good', 'kid', 'm', 'd', 'city', 'sara', 'bareilles', 'blessed', 'unrest', 'macklemore', 'ryan', 'lewis', 'heist', 'taylor', 'swift', 'red', 'song', 'year', 'winner', 'lorde', 'royals', 'pink', 'ft', 'nate', 'ruess', 'give', 'reason', 'bruno', 'mars', 'locked', 'heaven', 'katy', 'perry', 'roar', 'macklemore', 'ryan', 'lewis', 'ft', 'mary', 'lambert', 'love', 'best', 'rap', 'song', 'winner', 'macklemore', 'ryan', 'lewis', 'ft', 'wanz', 'thrift', 'shop', 'asap', 'rocky', 'ft', 'drake', '2', 'chainz', 'kendrick', 'lamar', 'fuckin', 'problems', 'jay', 'z', 'ft', 'justin', 'timberlake', 'holy', 'grail', 'kanye', 'west', 'new', 'slaves', 'drake', 'started', 'bottom', 'best', 'pop', 'duo', 'group', 'performance', 'winner', 'daft', 'punk', 'ft', 'pharrell', 'get', 'lucky', 'pink', 'ft', 'nate', 'ruess', 'give', 'reason', 'rihanna', 'ft', 'mikky', 'ekko', 'stay', 'robin', 'thicke', 'ft', 'pharrell', 'blurred', 'lines', 'justin', 'timberlake', 'ft', 'jay', 'z', 'suit', 'tie', 'best', 'r', 'b', 'album', 'winner', 'alicia', 'keys', 'girl', 'fire', 'faith', 'evans', 'r', 'b', 'divas', 'john', 'legend', 'love', 'future', 'tgt', 'three', 'kings', 'best', 'urban', 'contemporary', 'album', 'winner', 'rihanna', 'unapologetic', 'tamar', 'braxton', 'love', 'war', 'fantasia', 'side', 'effects', 'salaam', 'remi', 'one', 'chamber', 'mack', 'wilds', 'new', 'york', 'love', 'story', 'best', 'country', 'album', 'winner', 'kacey', 'musgraves', 'trailer', 'different', 'park', 'jason', 'aldean', 'night', 'train', 'tim', 'mcgraw', 'two', 'lanes', 'freedom', 'blake', 'shelton', 'based', 'true', 'story', 'taylor', 'swift', 'red', 'best', 'new', 'artist', 'winner', 'macklemore', 'ryan', 'lewis', 'james', 'blake', 'ed', 'sheeran', 'kendrick', 'lamar', 'kacey', 'musgraves', 'record', 'year', 'winner', 'daft', 'punk', 'ft', 'pharrell', 'get', 'lucky', 'imagine', 'dragons', 'radioactive', 'lorde', 'royals', 'bruno', 'mars', 'locked', 'heaven', 'robin', 'thicke', 'ft', 'pharrell', 'blurred', 'lines', 'best', 'rap', 'sung', 'collaboration', 'winner', 'jay', 'z', 'ft', 'justin', 'timberlake', 'holy', 'grail', 'j', 'cole', 'ft', 'miguel', 'power', 'trip', 'jay', 'z', 'ft', 'beyoncé', 'part', 'ii', 'run', 'kendrick', 'lamar', 'ft', 'mary', 'j', 'blige', 'never', 'wiz', 'khalifa', 'ft', 'weeknd', 'remember', 'best', 'rap', 'performance', 'winner', 'macklemore', 'ryan', 'lewis', 'ft', 'wanz', 'thrift', 'shop', 'drake', 'started', 'bottom', 'eminem', 'berzerk', 'jay', 'z', 'tom', 'ford', 'kendrick', 'lamar', 'swimming', 'pools', 'drank', 'best', 'pop', 'vocal', 'album', 'winner', 'bruno', 'mars', 'unorthodox', 'jukebox', 'lana', 'del', 'rey', 'paradise', 'lorde', 'pure', 'heroine', 'robin', 'thicke', 'blurred', 'lines', 'justin', 'timberlake', '20', '20', 'experience', 'best', 'r', 'b', 'song', 'songwriters', 'award', 'winner', 'james', 'fauntleroy', 'jerome', 'harmon', 'timothy', 'mosley', 'justin', 'timberlake', 'pusher', 'love', 'girl', 'anthony', 'hamilton', 'jairus', 'mozee', 'best', 'tamar', 'braxton', 'darhyl', 'camper', 'jr', 'lashawn', 'daniels', 'makeba', 'riddick', 'love', 'war', 'pj', 'morton', 'ft', 'stevie', 'wonder', 'one', 'fantasia', 'barrino', 'missy', 'elliott', 'al', 'sherrod', 'lambert', 'harmony', 'samuels', 'kyle', 'stewart', 'without', 'best', 'traditional', 'r', 'b', 'performance', 'winner', 'gary', 'clark', 'jr', 'please', 'come', 'home', 'fantasia', 'get', 'right', 'maysa', 'quiet', 'fire', 'gregory', 'porter', 'hey', 'laura', 'ryan', 'shaw', 'yesterday', 'best', 'r', 'b', 'performance', 'winner', 'snarky', 'puppy', 'lalah', 'hathaway', 'something', 'tamar', 'braxton', 'love', 'war', 'anthony', 'hamilton', 'best', 'hiatus', 'kaiyote', 'ft', 'q', 'tip', 'nakamarra', 'miguel', 'ft', 'kendrick', 'lamar', 'many', 'drinks', 'best', 'reggae', 'album', 'winner', 'ziggy', 'marley', 'ziggy', 'marley', 'concert', 'beres', 'hammond', 'one', 'love', 'one', 'life', 'sizzla', 'messiah', 'sly', 'robbie', 'jam', 'masters', 'reggae', 'connection', 'snoop', 'lion', 'reincarnated', 'best', 'dance', 'electronica', 'album', 'winner', 'daft', 'punk', 'random', 'access', 'memories', 'disclosure', 'settle', 'calvin', 'harris', '18', 'months', 'kaskade', 'atmosphere', 'pretty', 'lights', 'color', 'map', 'sun', 'best', 'alternative', 'album', 'winner', 'vampire', 'weekend', 'modern', 'vampires', 'city', 'neko', 'case', 'worse', 'things', 'get', 'harder', 'fight', 'harder', 'fight', 'love', 'national', 'trouble', 'find', 'nine', 'inch', 'nails', 'hesitation', 'marks', 'tame', 'impala', 'lonerismhold', 'love', 'like', 'love', 'slow', 'love', 'like', 'love', 'back', 'love', 'like', 'love', 'step', 'love', 'like', 'love', 'see', 'man', 'wicked', 'way', 'treat', 'girl', 'loves', 'hold', 'love', 'like', 'love', 'oh', 'love', 'like', 'love', 'something', 'feel', 'right', 'ain', 'right', 'especially', 'comin', 'midnight', 'smell', 'secrets', 'm', 'perfect', 'ever', 'feel', 'worthless', 'come', 'scrolling', 'call', 'list', 'wanna', 'lose', 'pride', 'ma', 'fuck', 'bitch', 'know', 'kept', 'sexy', 'know', 'kept', 'fun', 'something', 'm', 'missing', 'maybe', 'head', 'one', 'worst', 'lookin', 'jealous', 'crazy', 'jealous', 'crazy', 'like', 'walked', 'lately', 'walked', 'lately', 'd', 'rather', 'crazy', 'hold', 'love', 'like', 'love', 'slow', 'love', 'like', 'love', 'back', 'love', 'like', 'love', 'step', 'love', 'like', 'love', 'see', 'man', 'wicked', 'way', 'treat', 'girl', 'loves', 'hold', 'love', 'like', 'love', 'slow', 'love', 'like', 'love', 'let', 'imagine', 'moment', 'never', 'made', 'name', 'mastered', 'wealth', 'labeled', 'king', 'never', 'made', 'cage', 'still', 'movin', 'streets', 'never', 'baddest', 'woman', 'game', 'sheets', 'would', 'ride', 'used', 'hide', 'lie', 'y', 'know', 'made', 'find', 'hold', 'sing', 'se', 'hold', 'love', 'like', 'love', 'slow', 'love', 'like', 'love', 'back', 'love', 'like', 'love', 'step', 'love', 'like', 'love', 'see', 'man', 'wicked', 'way', 'treat', 'girl', 'loves', 'hold', 'love', 'like', 'love', 'slow', 'love', 'like', 'love', 'hey', 'shame', 'let', 'good', 'love', 'go', 'waste', 'always', 'keep', 'top', 'tier', '5', 'star', 'backseat', 'lovin', 'car', 'like', 'make', 'wood', 'like', 'make', 'wood', 'holly', 'like', 'boulevard', 'worse', 'lookin', 'jealous', 'crazy', 'jealous', 'crazy', 'like', 'walked', 'lately', 'walked', 'lately', 'd', 'rather', 'crazy', 'hold', 'love', 'like', 'love', 'slow', 'love', 'like', 'love', 'back', 'love', 'like', 'love', 'step', 'love', 'like', 'love', 'see', 'man', 'wicked', 'way', 'treat', 'girl', 'loves', 'hold', 'love', 'like', 'love', 'oh', 'love', 'like', 'love', 'hop', 'bed', 'get', 'swag', 'look', 'mirror', 'say', 'hop', 'bed', 'get', 'swag', 'look', 'mirror', 'say', 'upten', 'times', 'nine', 'know', 're', 'lying', 'nine', 'times', 'ten', 'know', 're', 'trying', 'm', 'trying', 'fair', 're', 'trying', 'care', 're', 'caught', 'permanent', 'emotions', 'loving', 'giving', 'goes', 'unnoticed', 'floating', 'air', 'lookie', 'aware', 're', 'lifeline', 'tryna', 'kill', 'wasn', 'would', 'still', 'feel', 'like', 'worst', 'day', 'thirsty', 'enough', 'care', 'lights', 'beams', 'spend', 'life', 'dark', 'sake', 'way', 'go', 'skin', 'thick', 'tough', 'mmm', 'cause', 'could', 'move', 'mountain', 'could', 'calm', 'war', 'could', 'make', 'rain', 'could', 'stop', 'love', 'drought', 'nine', 'times', 'ten', 'm', 'feelings', 'ten', 'times', 'nine', 'm', 'human', 'tell', 'wrong', 'feel', 'like', 'question', 'posed', 'm', 'movin', 'always', 'committed', 'focused', 'always', 'paid', 'attention', 'devoted', 'tell', 'wrong', 'oh', 'already', 'asked', 'bad', 'lifeline', 'think', 'tryna', 'kill', 'wasn', 'b', 'would', 'still', 'feel', 'like', 'worst', 'day', 'thirsty', 'enough', 'care', 'lights', 'beams', 'spend', 'life', 'dark', 'sake', 'way', 'go', 'old', 'bitches', 'wack', 'm', 'tough', 'wassup', 'cause', 'could', 'move', 'mountain', 'could', 'calm', 'war', 'could', 'make', 'rain', 'stop', 'love', 'drought', 'stop', 'love', 'drought', 'stop', 'love', 'droughtyou', 'taste', 'dishonesty', 'breath', 'pass', 'cavalier', 'even', 'test', 'constantly', 'aware', 'lonely', 'ear', 'pressed', 'walls', 'world', 'pray', 'catch', 'whispering', 'pray', 'catch', 'listening', 'm', 'prayin', 'catch', 'whispering', 'pray', 'catch', 'm', 'prayin', 'catch', 'whispering', 'pray', 'catch', 'listening', 'pray', 'catch', 'nothing', 'else', 'ever', 'seems', 'hurt', 'like', 'smile', 'face', 'memory', 'hit', 'quite', 'maybe', 'cause', 'concern', 'm', 'ease', 'keeping', 'head', 'curb', 'pray', 'catch', 'whispering', 'pray', 'catch', 'listening', 'pray', 'catch', 'whispering', 'whisper', 'whisper', 'pray', 'catch', 'whisper', 'whisper', 'pray', 'catch', 'pray', 'catch', 'pray', 'm', 'praying', 'catch', 'love', 'built', 'sandcastles', 'washed', 'away', 'made', 'cry', 'walked', 'away', 'oh', 'although', 'promised', 'couldn', 'stay', 'baby', 'every', 'promise', 'work', 'way', 'oh', 'babe', 'every', 'promise', 'work', 'way', 'dishes', 'smashed', 'counter', 'last', 'encounter', 'pictures', 'snatched', 'frame', 'bitch', 'scratched', 'name', 'face', 'erase', 'baby', 'every', 'promise', 'work', 'way', 'babe', 'every', 'promise', 'work', 'way', 'heart', 'broken', 'cause', 'walked', 'away', 'show', 'scars', 'won', 'walk', 'away', 'oh', 'know', 'promised', 'couldn', 'stay', 'baby', 'every', 'promise', 'work', 'way', 'every', 'promise', 'work', 'waysorry', 'ain', 'sorry', 'sorry', 'ain', 'sorry', 'ain', 'sorry', 'nigga', 'nah', 'sorry', 'ain', 'sorry', 'sorry', 'ain', 'sorry', 'ain', 'sorry', 'trying', 'roll', 'ain', 'sorry', 'ain', 'picking', 'ain', 'sorry', 'headed', 'club', 'ain', 'sorry', 'ain', 'thinking', 'bout', 'ain', 'sorry', 'ladies', 'sip', 'd', 'ussé', 'cups', 'give', 'fuck', 'chucking', 'deuces', 'suck', 'balls', 'pause', 'enough', 'sorry', 'ain', 'sorry', 'ain', 'thinking', 'bout', 'ain', 'thinking', 'bout', 'middle', 'fingers', 'put', 'hands', 'high', 'wave', 'face', 'tell', 'boy', 'bye', 'sorry', 'ain', 'sorry', 'tell', 'boy', 'bye', 'boy', 'bye', 'middle', 'fingers', 'ain', 'thinking', 'bout', 'sorry', 'ain', 'sorry', 'sorry', 'ain', 'sorry', 'ain', 'sorry', 'nigga', 'nah', 'ain', 'thinking', 'bout', 'sorry', 'ain', 'sorry', 'sorry', 'ain', 'sorry', 'ain', 'sorry', 'hell', 'nah', 'wanna', 'say', 're', 'sorry', 'wanna', 'call', 'crying', 'gotta', 'see', 'wilding', 'm', 'one', 'lying', 'feel', 'bad', 'exactly', 'get', 'stop', 'interrupting', 'grinding', 'interrupting', 'grinding', 'ain', 'thinking', 'bout', 'sorry', 'ain', 'sorry', 'ain', 'thinking', 'bout', 'ain', 'thinking', 'bout', 'sorry', 'ain', 'sorry', 'ain', 'thinking', 'bout', 'ain', 'thinking', 'bout', 'middle', 'fingers', 'put', 'hands', 'high', 'wave', 'face', 'tell', 'boy', 'bye', 'bye', 'sorry', 'ain', 'sorry', 'tell', 'boy', 'bye', 'bye', 'boy', 'bye', 'bye', 'middle', 'fingers', 'ain', 'thinking', 'bout', 'sorry', 'ain', 'sorry', 'sorry', 'ain', 'sorry', 'ain', 'sorry', 'nigga', 'nah', 'sorry', 'ain', 'sorry', 'sorry', 'ain', 'sorry', 'ain', 'sorry', 'hell', 'nah', 'looking', 'watch', 'shoulda', 'home', 'today', 'regret', 'night', 'put', 'ring', 'always', 'got', 'fucking', 'excuses', 'pray', 'lord', 'reveal', 'truth', 'left', 'note', 'hallway', 'time', 'read', 'far', 'away', 'm', 'far', 'away', 'ain', 'fucking', 'nobody', 'let', 'toast', 'good', 'life', 'suicide', 'see', 'tear', 'fall', 'eyes', 'baby', 'gon', 'alright', 'gon', 'live', 'good', 'life', 'big', 'homie', 'better', 'grow', 'whoadies', 'bout', 'stroll', 'see', 'boppers', 'corner', 'sneaking', 'back', 'door', 'want', 'm', 'better', 'call', 'becky', 'good', 'hair', 'better', 'call', 'becky', 'good', 'hairthe', 'big', 'homie', 'better', 'hold', 'hold', 'big', 'homie', 'better', 'hold', 'hold', 'whoadies', 'bout', 'roll', 'roll', 'young', 'whoadies', 'bout', 'stroll', 'stroll', 'comin', 'back', 'door', 'big', 'homie', 'better', 'hold', 'hold', 'whoadies', 'bout', 'roll', 'roll', 'see', 'boppers', 'corner', 'corner', 'sneaking', 'back', 'door', 'really', 'could', 'living', 'young', 'wild', 'free', 'left', 'note', 'hallway', 'hallway', 'time', 'read', 'far', 'away', 'far', 'away', 'ain', 'fucking', 'nobody', 'nobody', 'toast', 'good', 'life', 'good', 'life', 'suicide', 'see', 'tears', 'eyes', 'eyes', 'daughter', 'gon', 'alright', 'gon', 'live', 'good', 'life', 'good', 'life', 'big', 'homie', 'better', 'hold', 'hold', 'whoadies', 'bout', 'roll', 'roll', 'say', 'whoadies', 'bout', 'stroll', 'stroll', 'comin', 'back', 'door', 'big', 'homie', 'better', 'hold', 'hold', 'whoadies', 'bout', 'stroll', 'stroll', 'see', 'boppers', 'corner', 'corner', 'sneaking', 'back', 'door', 'really', 'could', 'living', 'young', 'wild', 'free', 'hell', 'ain', 'gon', 'call', 'back', 'call', 'back', 'chase', 'round', 'world', 'fall', 'back', 'fall', 'back', 'ain', 'nobody', 'got', 'time', 'tryna', 'keep', 'family', 'right', 'swear', 're', 'giving', 'heart', 'care', 'care', 'better', 'call', 'becky', 'good', 'hair', 'good', 'hair', 'want', 'm', 'boy', 'better', 'get', 'line', 'sometimes', 'regret', 'day', 'put', 'ring', 'get', 'line', 'looking', 'watch', 'home', 'get', 'line', 'always', 'got', 'motherfucking', 'excuses', 'get', 'line', 'pray', 'god', 'reveal', 'truth', 'get', 'line', 'hey', 'big', 'homie', 'better', 'grow', 'get', 'line', 'ask', 'something', 'choke', 'get', 'line', 'whoadies', 'gonna', 'roll', 'beating', 'back', 'door', 'get', 'line', 'big', 'homie', 'better', 'hold', 'get', 'line', 'running', 'game', 'wrong', 'one', 'get', 'line', 'm', 'runnin', 'fast', 'long', 'run', 'runnin', 'back', 'door', 'get', 'line', 'truly', 'could', 'living', 'young', 'wild', 'free', 'get', 'line', 'truly', 'could', 'living', 'young', 'wild', 'free']\n"
     ]
    }
   ],
   "source": [
    "print(meaningful_words)"
   ]
  },
  {
   "cell_type": "code",
   "execution_count": 11,
   "id": "b4b76074",
   "metadata": {},
   "outputs": [
    {
     "name": "stdout",
     "output_type": "stream",
     "text": [
      "[('love', 93), ('like', 50), ('ain', 50), ('slay', 49), ('sorry', 44), ('okay', 42), ('oh', 38), ('m', 37), ('get', 32), ('daddy', 28), ('let', 28), ('back', 24), ('said', 22), ('work', 21), ('cause', 21), ('ft', 21), ('hold', 20), ('night', 19), ('feel', 19), ('hurt', 19), ('best', 19), ('winner', 19), ('every', 18), ('bout', 18), ('money', 17), ('baby', 16), ('boy', 16), ('long', 16), ('shoot', 16), ('good', 16), ('catch', 16), ('know', 15), ('ooh', 15), ('got', 14), ('come', 14), ('pray', 14), ('way', 13), ('gon', 13), ('kiss', 13), ('re', 12)]\n"
     ]
    }
   ],
   "source": [
    "print(most_frequent_meaningful_words)"
   ]
  },
  {
   "cell_type": "code",
   "execution_count": 14,
   "id": "80bf8a91",
   "metadata": {},
   "outputs": [],
   "source": [
    "name = 'Prof.Walsh'\n",
    "age = 1000\n",
    "place = 'Chicago'\n",
    "favorite_food = 'tacos'\n",
    "dog_years_age = age * 7.5\n",
    "student = False"
   ]
  },
  {
   "cell_type": "code",
   "execution_count": 15,
   "id": "864fcbbd",
   "metadata": {},
   "outputs": [
    {
     "name": "stdout",
     "output_type": "stream",
     "text": [
      "✨This is...Prof.Walsh!✨\n",
      "Prof.Walsh likes tacos and once lived in Chicago.\n",
      "Prof.Walsh is 1000 years old, which is 7500.0 in dog years.\n",
      "The statement 'Prof.Walsh is a student' is False.\n"
     ]
    }
   ],
   "source": [
    "print(f'✨This is...{name}!✨')\n",
    "\n",
    "print(f\"\"\"{name} likes {favorite_food} and once lived in {place}.\n",
    "{name} is {age} years old, which is {dog_years_age} in dog years.\n",
    "The statement '{name} is a student' is {student}.\"\"\")"
   ]
  },
  {
   "cell_type": "code",
   "execution_count": null,
   "id": "89cc1952",
   "metadata": {},
   "outputs": [],
   "source": [
    "print(f\"\"\"\n",
    "name = {type(name)}\n",
    "age = {type(age)}\n",
    "place = {type(place)}\n",
    "favorite_food = {type(favorite_food)}\n",
    "dog_years_age = {type(dog_years_age)}\n",
    "student = {type(student)}\n",
    "\"\"\")"
   ]
  },
  {
   "cell_type": "code",
   "execution_count": null,
   "id": "9cb21a1f",
   "metadata": {},
   "outputs": [],
   "source": [
    "name = 'Jacob'\n",
    "age = 24\n",
    "home_town = 'Colorado Springs'\n",
    "favorite_food = 'Pizza'\n",
    "dog_years_age = age * 7.5\n",
    "favorite_show = 'How I Met Your Mother'"
   ]
  },
  {
   "cell_type": "code",
   "execution_count": null,
   "id": "432b6667",
   "metadata": {},
   "outputs": [],
   "source": [
    "print(f'✨This is...{name}!✨')\n",
    "\n",
    "print(f\"\"\"{name} likes {favorite_food} and is from {home_town}.\n",
    "{name} is {age} years old, which is {dog_years_age} in dog years.\n",
    "His favorite TV show is {favorite_show}.\"\"\")"
   ]
  },
  {
   "cell_type": "code",
   "execution_count": null,
   "id": "38140f73",
   "metadata": {},
   "outputs": [],
   "source": [
    "sample_text = open(\"texts/literature/The-Metamorphosis_Franz-Kafka.txt\", encoding=\"utf-8\").read()"
   ]
  },
  {
   "cell_type": "code",
   "execution_count": null,
   "id": "865bfe8a",
   "metadata": {},
   "outputs": [],
   "source": [
    "print(sample_text)"
   ]
  },
  {
   "cell_type": "code",
   "execution_count": null,
   "id": "b6c3f534",
   "metadata": {},
   "outputs": [],
   "source": [
    "first_line = sample_text[:121]"
   ]
  },
  {
   "cell_type": "code",
   "execution_count": null,
   "id": "bf0efc7f",
   "metadata": {},
   "outputs": [],
   "source": [
    "print(first_line)"
   ]
  },
  {
   "cell_type": "code",
   "execution_count": null,
   "id": "53c2139c",
   "metadata": {},
   "outputs": [],
   "source": [
    "first_line.replace(\"vermin\", \"Taylor Swift\")"
   ]
  },
  {
   "cell_type": "code",
   "execution_count": null,
   "id": "1ab84de6",
   "metadata": {},
   "outputs": [],
   "source": [
    "first_line.upper()"
   ]
  },
  {
   "cell_type": "code",
   "execution_count": null,
   "id": "4c3e5811",
   "metadata": {},
   "outputs": [],
   "source": [
    "first_line.title()"
   ]
  },
  {
   "cell_type": "code",
   "execution_count": null,
   "id": "2935de82",
   "metadata": {},
   "outputs": [],
   "source": [
    "first_line.split(\"dreams\")"
   ]
  },
  {
   "cell_type": "code",
   "execution_count": null,
   "id": "ea61f2a6",
   "metadata": {},
   "outputs": [],
   "source": [
    "kafka_split_words = first_line.split()\n",
    "kafka_split_words"
   ]
  },
  {
   "cell_type": "code",
   "execution_count": null,
   "id": "87f5eb08",
   "metadata": {},
   "outputs": [],
   "source": [
    "\" \".join(kafka_split_words)"
   ]
  },
  {
   "cell_type": "code",
   "execution_count": null,
   "id": "05aa899f",
   "metadata": {
    "scrolled": true
   },
   "outputs": [],
   "source": [
    "\"LOL\".join(kafka_split_words)"
   ]
  },
  {
   "cell_type": "code",
   "execution_count": null,
   "id": "9cf6fa93",
   "metadata": {},
   "outputs": [],
   "source": [
    "person1_name = 'Mary Gallagher'\n",
    "person1_age = 28\n",
    "person1_disease = 'recent emigrant'\n",
    "person1_profession = 'married'\n",
    "person1_gender = 'f'\n",
    "person1_child_status = 'Child Alana 10 days'"
   ]
  },
  {
   "cell_type": "code",
   "execution_count": null,
   "id": "2627e82b",
   "metadata": {},
   "outputs": [],
   "source": [
    "if person1_age < 30:\n",
    "    print('Person is less than 30 years old.')"
   ]
  },
  {
   "cell_type": "code",
   "execution_count": null,
   "id": "d70bb04f",
   "metadata": {},
   "outputs": [],
   "source": [
    "if person1_profession == 'married':\n",
    "    print('Person is married.')"
   ]
  },
  {
   "cell_type": "code",
   "execution_count": null,
   "id": "d00d9eba",
   "metadata": {},
   "outputs": [],
   "source": [
    "if person1_age < 30 and person1_profession == 'maried':\n",
    "    print('Person is less than 30 years old and is married.')"
   ]
  },
  {
   "cell_type": "code",
   "execution_count": null,
   "id": "fd7feedb",
   "metadata": {},
   "outputs": [],
   "source": [
    "person2_name = 'Anthony Clark'\n",
    "person2_age = 60\n",
    "person2_disease = 'recent emigrant'\n",
    "person2_profession = 'laborer'\n",
    "person2_gender = 'm'\n",
    "person2_child_status = 'Charles Riley afed 10 days'"
   ]
  },
  {
   "cell_type": "code",
   "execution_count": null,
   "id": "430b7e18",
   "metadata": {},
   "outputs": [],
   "source": [
    "if person2_age > 30:\n",
    "    print('Person is older than 30 years old.')\n",
    "if person2_age < 30:\n",
    "    print(\"\")"
   ]
  },
  {
   "cell_type": "code",
   "execution_count": 39,
   "id": "a9dc18c8",
   "metadata": {},
   "outputs": [],
   "source": [
    "professions = ['married', 'laborer', 'widow', 'laborer', ]\n",
    "child_status = ['Child Alana 10 days', 'Catherine 2 mos', '', 'Charles Riley afed 10 days' ]\n",
    "gender = ['f', 'm', 'w', 'm']"
   ]
  },
  {
   "cell_type": "code",
   "execution_count": 27,
   "id": "fd719946",
   "metadata": {},
   "outputs": [
    {
     "data": {
      "text/plain": [
       "'laborer'"
      ]
     },
     "execution_count": 27,
     "metadata": {},
     "output_type": "execute_result"
    }
   ],
   "source": [
    "professions[1]"
   ]
  },
  {
   "cell_type": "code",
   "execution_count": 28,
   "id": "4c944b5e",
   "metadata": {},
   "outputs": [],
   "source": [
    "professions.append(\"spinster\")"
   ]
  },
  {
   "cell_type": "code",
   "execution_count": 29,
   "id": "584d8f16",
   "metadata": {},
   "outputs": [
    {
     "data": {
      "text/plain": [
       "['married', 'laborer', 'widow', 'laborer', 'spinster']"
      ]
     },
     "execution_count": 29,
     "metadata": {},
     "output_type": "execute_result"
    }
   ],
   "source": [
    "professions"
   ]
  },
  {
   "cell_type": "code",
   "execution_count": 30,
   "id": "fa1465fe",
   "metadata": {},
   "outputs": [
    {
     "name": "stdout",
     "output_type": "stream",
     "text": [
      "Person's profession is {x}\n",
      "Person's profession is {x}\n",
      "Person's profession is {x}\n",
      "Person's profession is {x}\n",
      "Person's profession is {x}\n"
     ]
    }
   ],
   "source": [
    "for x in professions:\n",
    "    print(\"Person's profession is {x}\")"
   ]
  },
  {
   "cell_type": "code",
   "execution_count": 32,
   "id": "2209f80a",
   "metadata": {},
   "outputs": [
    {
     "name": "stdout",
     "output_type": "stream",
     "text": [
      "married\n",
      "laborer\n",
      "widow\n",
      "laborer\n",
      "spinster\n"
     ]
    }
   ],
   "source": [
    "for profession in professions:\n",
    "    print(profession)"
   ]
  },
  {
   "cell_type": "code",
   "execution_count": 37,
   "id": "51bd8ef5",
   "metadata": {},
   "outputs": [
    {
     "name": "stdout",
     "output_type": "stream",
     "text": [
      "Person's profession is profession\n",
      "Person's profession is profession\n",
      "Person's profession is profession\n",
      "Person's profession is profession\n",
      "Person's profession is profession\n"
     ]
    }
   ],
   "source": [
    "for profession in professions:\n",
    "    print(f\"Person's profession is profession\")"
   ]
  },
  {
   "cell_type": "code",
   "execution_count": 41,
   "id": "5ee09fb1",
   "metadata": {},
   "outputs": [
    {
     "data": {
      "text/plain": [
       "'Charles Riley afed 10 days'"
      ]
     },
     "execution_count": 41,
     "metadata": {},
     "output_type": "execute_result"
    }
   ],
   "source": [
    "child_status[3]"
   ]
  },
  {
   "cell_type": "code",
   "execution_count": 42,
   "id": "2fc44377",
   "metadata": {},
   "outputs": [
    {
     "name": "stdout",
     "output_type": "stream",
     "text": [
      "Person has child\n",
      "Person has child\n",
      "Person does not have child\n",
      "Person has child\n"
     ]
    }
   ],
   "source": [
    "for child in child_status:\n",
    "    if child == '':\n",
    "        print(\"Person does not have child\")\n",
    "    else:\n",
    "        print(\"Person has child\")"
   ]
  },
  {
   "cell_type": "code",
   "execution_count": 43,
   "id": "354b4d32",
   "metadata": {},
   "outputs": [],
   "source": [
    "gender.append(\"unknown\")"
   ]
  },
  {
   "cell_type": "code",
   "execution_count": 44,
   "id": "b34f459f",
   "metadata": {},
   "outputs": [
    {
     "data": {
      "text/plain": [
       "['f', 'm', 'w', 'm', 'unknown']"
      ]
     },
     "execution_count": 44,
     "metadata": {},
     "output_type": "execute_result"
    }
   ],
   "source": [
    "gender"
   ]
  },
  {
   "cell_type": "code",
   "execution_count": 47,
   "id": "3b1d59a4",
   "metadata": {},
   "outputs": [
    {
     "name": "stdout",
     "output_type": "stream",
     "text": [
      "Person is female\n",
      "Person is female\n",
      "Person is female\n",
      "Person is female\n",
      "Person is female\n"
     ]
    }
   ],
   "source": [
    "for genders in gender:\n",
    "    if genders == 'f' or 'w':\n",
    "        print(\"Person is female\")\n",
    "    elif genders == 'm':\n",
    "        print(\"Person is male\")\n",
    "    else:\n",
    "        print(\"Person's gender is unknown\")"
   ]
  },
  {
   "cell_type": "code",
   "execution_count": 48,
   "id": "dbbb9c73",
   "metadata": {},
   "outputs": [],
   "source": [
    "def sing_beyonce_lyrics():\n",
    "    print(\"Okay, okay, ladies, now let's get in formation, 'cause I slay\")\n",
    "    print(\"Okay, ladies, now let's get in formation, 'cause I slay\")\n",
    "    print(\"Prove to me you got some coordination, 'cause I slay\")\n",
    "    print(\"Slay trick, or you get eliminated\")\n",
    "    return "
   ]
  },
  {
   "cell_type": "code",
   "execution_count": 52,
   "id": "a418751d",
   "metadata": {},
   "outputs": [
    {
     "name": "stdout",
     "output_type": "stream",
     "text": [
      "Okay, okay, ladies, now let's get in formation, 'cause I slay\n",
      "Okay, ladies, now let's get in formation, 'cause I slay\n",
      "Prove to me you got some coordination, 'cause I slay\n",
      "Slay trick, or you get eliminated\n"
     ]
    }
   ],
   "source": [
    "sing_beyonce_lyrics()"
   ]
  },
  {
   "cell_type": "code",
   "execution_count": null,
   "id": "c13ef03b",
   "metadata": {},
   "outputs": [],
   "source": []
  }
 ],
 "metadata": {
  "kernelspec": {
   "display_name": "Python [conda env:REL560] *",
   "language": "python",
   "name": "conda-env-REL560-py"
  },
  "language_info": {
   "codemirror_mode": {
    "name": "ipython",
    "version": 3
   },
   "file_extension": ".py",
   "mimetype": "text/x-python",
   "name": "python",
   "nbconvert_exporter": "python",
   "pygments_lexer": "ipython3",
   "version": "3.9.7"
  }
 },
 "nbformat": 4,
 "nbformat_minor": 5
}
