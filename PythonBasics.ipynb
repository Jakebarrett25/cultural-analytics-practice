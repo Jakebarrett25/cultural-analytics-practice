{
 "cells": [
  {
   "cell_type": "code",
   "execution_count": 1,
   "id": "e670ca6f",
   "metadata": {},
   "outputs": [
    {
     "name": "stdout",
     "output_type": "stream",
     "text": [
      "100\n"
     ]
    }
   ],
   "source": [
    "new_variable = 100\n",
    "print(new_variable)"
   ]
  },
  {
   "cell_type": "code",
   "execution_count": 2,
   "id": "ea098a1f",
   "metadata": {},
   "outputs": [
    {
     "data": {
      "text/plain": [
       "True"
      ]
     },
     "execution_count": 2,
     "metadata": {},
     "output_type": "execute_result"
    }
   ],
   "source": [
    "2 * 50 == 100"
   ]
  },
  {
   "cell_type": "code",
   "execution_count": 3,
   "id": "7b540961",
   "metadata": {},
   "outputs": [
    {
     "name": "stdout",
     "output_type": "stream",
     "text": [
      "I'm another variable!\n"
     ]
    }
   ],
   "source": [
    "different_variable = \"I'm another variable!\"\n",
    "print(different_variable)"
   ]
  },
  {
   "cell_type": "code",
   "execution_count": 4,
   "id": "f283822c",
   "metadata": {},
   "outputs": [],
   "source": [
    "import re\n",
    "from collections import Counter\n",
    "\n",
    "def split_into_words(any_chunk_of_text):\n",
    "    lowercase_text = any_chunk_of_text.lower()\n",
    "    split_words = re.split(\"\\W+\", lowercase_text)\n",
    "    return split_words"
   ]
  },
  {
   "cell_type": "code",
   "execution_count": 8,
   "id": "400667ab",
   "metadata": {},
   "outputs": [],
   "source": [
    "filepath_of_text = \"texts/literature/The-Yellow-Wallpaper_Charlotte-Perkins-Gilman.txt\"\n",
    "number_of_desired_words = 40\n",
    "\n",
    "stopwords = ['i', 'me', 'my', 'myself', 'we', 'our', 'ours', 'ourselves', 'you', 'your', 'yours',\n",
    "'yourself', 'yourselves', 'he', 'him', 'his', 'himself', 'she', 'her', 'hers',\n",
    " 'herself', 'it', 'its', 'itself', 'they', 'them', 'their', 'theirs', 'themselves',\n",
    " 'what', 'which', 'who', 'whom', 'this', 'that', 'these', 'those', 'am', 'is', 'are',\n",
    " 'was', 'were', 'be', 'been', 'being', 'have', 'has', 'had', 'having', 'do', 'does',\n",
    " 'did', 'doing', 'a', 'an', 'the', 'and', 'but', 'if', 'or', 'because', 'as', 'until',\n",
    " 'while', 'of', 'at', 'by', 'for', 'with', 'about', 'against', 'between', 'into',\n",
    " 'through', 'during', 'before', 'after', 'above', 'below', 'to', 'from', 'up', 'down',\n",
    " 'in', 'out', 'on', 'off', 'over', 'under', 'again', 'further', 'then', 'once', 'here',\n",
    " 'there', 'when', 'where', 'why', 'how', 'all', 'any', 'both', 'each', 'few', 'more',\n",
    " 'most', 'other', 'some', 'such', 'no', 'nor', 'not', 'only', 'own', 'same', 'so',\n",
    " 'than', 'too', 'very', 's', 't', 'can', 'will', 'just', 'don', 'should', 'now', 've', 'll', 'amp']\n"
   ]
  },
  {
   "cell_type": "code",
   "execution_count": 9,
   "id": "e484cccb",
   "metadata": {},
   "outputs": [],
   "source": [
    "full_text = open(filepath_of_text, encoding=\"utf-8\").read()"
   ]
  },
  {
   "cell_type": "code",
   "execution_count": 10,
   "id": "753da844",
   "metadata": {},
   "outputs": [],
   "source": [
    "all_the_words = split_into_words(full_text)\n",
    "meaningful_words = [word for word in all_the_words if word not in stopwords]\n",
    "meaningful_words_tally = Counter(meaningful_words)\n",
    "most_frequent_meaningful_words = meaningful_words_tally.most_common(number_of_desired_words)"
   ]
  },
  {
   "cell_type": "code",
   "execution_count": 11,
   "id": "0d0335ad",
   "metadata": {},
   "outputs": [
    {
     "data": {
      "text/plain": [
       "[('john', 45),\n",
       " ('one', 33),\n",
       " ('said', 30),\n",
       " ('would', 27),\n",
       " ('get', 24),\n",
       " ('see', 24),\n",
       " ('room', 24),\n",
       " ('pattern', 24),\n",
       " ('paper', 23),\n",
       " ('like', 21),\n",
       " ('little', 20),\n",
       " ('much', 16),\n",
       " ('good', 16),\n",
       " ('think', 16),\n",
       " ('well', 15),\n",
       " ('know', 15),\n",
       " ('go', 15),\n",
       " ('really', 14),\n",
       " ('thing', 14),\n",
       " ('wallpaper', 13),\n",
       " ('night', 13),\n",
       " ('long', 12),\n",
       " ('course', 12),\n",
       " ('things', 12),\n",
       " ('take', 12),\n",
       " ('always', 12),\n",
       " ('could', 12),\n",
       " ('jennie', 12),\n",
       " ('great', 11),\n",
       " ('says', 11),\n",
       " ('feel', 11),\n",
       " ('even', 11),\n",
       " ('used', 11),\n",
       " ('dear', 11),\n",
       " ('time', 11),\n",
       " ('enough', 11),\n",
       " ('away', 11),\n",
       " ('want', 11),\n",
       " ('never', 10),\n",
       " ('must', 10)]"
      ]
     },
     "execution_count": 11,
     "metadata": {},
     "output_type": "execute_result"
    }
   ],
   "source": [
    "most_frequent_meaningful_words"
   ]
  },
  {
   "cell_type": "code",
   "execution_count": null,
   "id": "0a016e2d",
   "metadata": {},
   "outputs": [],
   "source": []
  }
 ],
 "metadata": {
  "kernelspec": {
   "display_name": "Python [conda env:REL560] *",
   "language": "python",
   "name": "conda-env-REL560-py"
  },
  "language_info": {
   "codemirror_mode": {
    "name": "ipython",
    "version": 3
   },
   "file_extension": ".py",
   "mimetype": "text/x-python",
   "name": "python",
   "nbconvert_exporter": "python",
   "pygments_lexer": "ipython3",
   "version": "3.9.7"
  }
 },
 "nbformat": 4,
 "nbformat_minor": 5
}
